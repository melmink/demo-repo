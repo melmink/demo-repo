{
  "nbformat": 4,
  "nbformat_minor": 0,
  "metadata": {
    "colab": {
      "name": "Copy of Untitled0.ipynb",
      "provenance": [],
      "authorship_tag": "ABX9TyMvn7c5pyAxvUjfzna3CO91",
      "include_colab_link": true
    },
    "kernelspec": {
      "name": "python3",
      "display_name": "Python 3"
    },
    "language_info": {
      "name": "python"
    }
  },
  "cells": [
    {
      "cell_type": "markdown",
      "metadata": {
        "id": "view-in-github",
        "colab_type": "text"
      },
      "source": [
        "<a href=\"https://colab.research.google.com/github/melmink/demo-repo/blob/main/Copy_of_Untitled0.ipynb\" target=\"_parent\"><img src=\"https://colab.research.google.com/assets/colab-badge.svg\" alt=\"Open In Colab\"/></a>"
      ]
    },
    {
      "cell_type": "code",
      "metadata": {
        "colab": {
          "base_uri": "https://localhost:8080/"
        },
        "id": "M8dxQSwGw2f_",
        "outputId": "286751b8-d255-4e0c-d745-7e3057d8266b"
      },
      "source": [
        "!python --version"
      ],
      "execution_count": null,
      "outputs": [
        {
          "output_type": "stream",
          "name": "stdout",
          "text": [
            "Python 3.7.11\n"
          ]
        }
      ]
    },
    {
      "cell_type": "code",
      "metadata": {
        "colab": {
          "base_uri": "https://localhost:8080/"
        },
        "id": "S5ulKNoG8p3z",
        "outputId": "7e4f808e-5cae-497a-e860-5e49e84dac93"
      },
      "source": [
        "# Create a variable called 'name' that holds a string\n",
        "name = \"Melissa\"\n",
        "\n",
        "# Create a variable called 'country' that holds a string\n",
        "country = \"Ireland\"\n",
        "\n",
        "# Create a variable called 'age' that holds an integer\n",
        "age = 46\n",
        "\n",
        "# Create a variable called 'hourly_wage' that holds an integer\n",
        "hourly_wage = 28\n",
        "\n",
        "# Calculate the daily wage for the user\n",
        "\n",
        "\n",
        "# Create a variable called 'satisfied' that holds a boolean\n",
        "satisfied = True\n",
        "\n",
        "# Print out \"Hello <name>!\"\n",
        "print(\"Hello \" + name +\"!\")\n",
        "\n",
        "# Print out what country the user entered\n",
        "print(\"You have entered \" + country)\n",
        "\n",
        "# Print out the user's age\n",
        "print(\"You are \" + str(age))\n",
        "\n",
        "# With an f-string, print out the daily wage that was calculated\n",
        "\n",
        "\n",
        "# With an f-string, print out whether the users were satisfied"
      ],
      "execution_count": null,
      "outputs": [
        {
          "output_type": "stream",
          "name": "stdout",
          "text": [
            "Hello Melissa!\n",
            "You have entered Ireland\n",
            "You are 46\n"
          ]
        }
      ]
    },
    {
      "cell_type": "code",
      "metadata": {
        "colab": {
          "base_uri": "https://localhost:8080/"
        },
        "id": "mTllfVq--X4e",
        "outputId": "6971a597-1970-4641-deb8-6dd2621693e5"
      },
      "source": [
        "# Create a variable and set it as an List\n",
        "myList = [\"Jacob\", 25, \"Ahmed\", 80]\n",
        "print(myList)\n",
        "\n",
        "# Adds an element onto the end of a List\n",
        "myList.append(\"Matt\")\n",
        "print(myList)\n",
        "\n",
        "# Returns the index of the first object with a matching value\n",
        "print(myList.index(\"Matt\"))\n",
        "\n",
        "# Changes a specified element within an List at the given index\n",
        "myList[3] = 85\n",
        "print(myList)\n",
        "\n",
        "# Returns the length of the List\n",
        "print(len(myList))\n",
        "\n",
        "# Removes a specified object from an List\n",
        "myList.remove(\"Matt\")\n",
        "print(myList)\n",
        "\n",
        "# Removes the object at the index specified\n",
        "myList.pop(0)\n",
        "myList.pop(0)\n",
        "print(myList)\n",
        "\n",
        "# Creates a tuple, a sequence of immutable Python objects that cannot be changed\n",
        "myTuple = ('Python', 100, 'VBA', False)\n",
        "print(myTuple)"
      ],
      "execution_count": null,
      "outputs": [
        {
          "output_type": "stream",
          "name": "stdout",
          "text": [
            "['Jacob', 25, 'Ahmed', 80]\n",
            "['Jacob', 25, 'Ahmed', 80, 'Matt']\n",
            "4\n",
            "['Jacob', 25, 'Ahmed', 85, 'Matt']\n",
            "5\n",
            "['Jacob', 25, 'Ahmed', 85]\n",
            "['Ahmed', 85]\n",
            "('Python', 100, 'VBA', False)\n"
          ]
        }
      ]
    },
    {
      "cell_type": "code",
      "metadata": {
        "id": "twVl58wA_MZM"
      },
      "source": [
        "# Create a Python list to store your grocery list\n",
        "\n",
        "# Print the grocery list\n",
        "\n",
        "# Change \"Peanut Butter\" to \"Almond Butter\" and print out the updated list\n",
        "\n",
        "# Remove \"Jelly\" from grocery list and print out the updated list\n",
        "\n",
        "# Add \"Coffee\" to grocery list and print the updated list"
      ],
      "execution_count": null,
      "outputs": []
    },
    {
      "cell_type": "code",
      "metadata": {
        "id": "Bdp7dd2_EcPx"
      },
      "source": [
        "# Create a Python list to store your grocery list\n",
        "grocery_list = [\"Milk\", \"Bread\", \"Eggs\", \"Peanut Butter\", \"Jelly\"]\n",
        "\n",
        "# Print the grocery list\n",
        "print(grocery_list)\n",
        "\n",
        "# Change \"Peanut Butter\" to \"Almond Butter\" and print out the updated list\n",
        "grocery_list[3] = \"Almond Butter\"\n",
        "print(grocery_list)\n",
        "\n",
        "# Remove \"Jelly\" from grocery list and print out the updated list\n",
        "grocery_list.remove(\"Jelly\")\n",
        "print(grocery_list)\n",
        "\n",
        "# Add \"Coffee\" to grocery list and print the updated list\n",
        "grocery_list.append(\"Coffee\")\n",
        "print(grocery_list)"
      ],
      "execution_count": null,
      "outputs": []
    },
    {
      "cell_type": "code",
      "metadata": {
        "colab": {
          "base_uri": "https://localhost:8080/"
        },
        "id": "lqWYyHVHA3fB",
        "outputId": "aa63cba9-c298-4cb6-938f-7c85468a829c"
      },
      "source": [
        "# Unlike lists, dictionaries store information in pairs\n",
        "# ---------------------------------------------------------------\n",
        "\n",
        "# A list of actors\n",
        "actors = [\"Tom Cruise\",\n",
        "          \"Angelina Jolie\",\n",
        "          \"Kristen Stewart\",\n",
        "          \"Denzel Washington\"]\n",
        "\n",
        "# A dictionary of an actor\n",
        "key = \"name\"\n",
        "actor = {\"name\": \"Tom Cruise\"}\n",
        "print(f'{actor[key]}')\n",
        "# actor.name\n",
        "\n",
        "\n",
        "# ---------------------------------------------------------------\n",
        "\n",
        "# A dictionary can contain multiple pairs of information\n",
        "actor_info = {\n",
        "    \"name\": \"Angelina Jolie\",\n",
        "    \"genre\": \"Action\",\n",
        "    \"nationality\": \"United States\"\n",
        "}\n",
        "\n",
        "# ---------------------------------------------------------------\n",
        "\n",
        "# A dictionary can contain multiple types of information\n",
        "another_actor = {\n",
        "    \"name\": \"Sylvester Stallone\",\n",
        "    \"age\": 62,\n",
        "    \"married\": True,\n",
        "    \"best movies\": [\n",
        "        \"Rocky\",\n",
        "        \"Rocky 2\",\n",
        "        \"Rocky 3\"\n",
        "    ]\n",
        "}\n",
        "print(f'{another_actor[\"name\"]} was in {another_actor[\"best movies\"][0]}')\n",
        "# ---------------------------------------------------------------\n",
        "\n",
        "# A dictionary can even contain another dictionary\n",
        "film = {\n",
        "    \"title\": \"Interstellar\",\n",
        "    \"revenues\": {\n",
        "        \"United States\": 360,\n",
        "        \"China\": 250,\n",
        "        \"United Kingdom\": 73\n",
        "    }\n",
        "}\n",
        "print(f'{film[\"title\"]} made {film[\"revenues\"][\"United States\"]}'\" in the US.\")\n",
        "# ---------------------------------------------------------------\n",
        "\n"
      ],
      "execution_count": null,
      "outputs": [
        {
          "output_type": "stream",
          "name": "stdout",
          "text": [
            "Tom Cruise\n",
            "Sylvester Stallone was in Rocky\n",
            "Interstellar made 360 in the US.\n"
          ]
        }
      ]
    },
    {
      "cell_type": "code",
      "metadata": {
        "id": "TdLBDV3OCv9D"
      },
      "source": [
        "# @TODO: Your code here\n",
        "pets_info = {\"pets name\":\"Snoopy\",\n",
        "             }\n"
      ],
      "execution_count": null,
      "outputs": []
    },
    {
      "cell_type": "code",
      "metadata": {
        "id": "VuZzbGp2EadC"
      },
      "source": [
        "# Dictionary full of info\n",
        "my_info = {\"name\": \"Rex\",\n",
        "           \"age\": 3,\n",
        "           \"hobbies\": [\"barking\", \"eating\", \"sleeping\", \"loving my owner\"],\n",
        "           \"wake-up\": {\"Mon\": 5, \"Friday\": 5, \"Saturday\": 7, \"Sunday\": 7}}\n",
        "\n",
        "# Print out results stored in the dictionary using f-strings.\n",
        "print(f'Hello I am {my_info[\"name\"]} and I am a {my_info[\"age\"]} years old.')\n",
        "print(f'I have {len(my_info[\"hobbies\"])} hobbies!')\n",
        "print(f'One of my favorite hobbies is {my_info[\"hobbies\"][0]}.')\n",
        "print(f'On Saturday I get up at {my_info[\"wake-up\"][\"Saturday\"]} AM.')\n"
      ],
      "execution_count": null,
      "outputs": []
    }
  ]
}